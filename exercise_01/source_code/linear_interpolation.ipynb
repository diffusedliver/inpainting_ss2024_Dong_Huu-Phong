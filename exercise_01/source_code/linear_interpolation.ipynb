{
 "cells": [
  {
   "cell_type": "code",
   "execution_count": 13,
   "id": "4c57aabb-a31c-4b33-984f-ada2dbb6ca26",
   "metadata": {
    "ExecuteTime": {
     "end_time": "2024-04-05T12:03:12.917553800Z",
     "start_time": "2024-04-05T12:03:12.906403700Z"
    }
   },
   "outputs": [],
   "source": [
    "import numpy \n",
    "\n",
    "from PIL import Image\n",
    "import unittest\n",
    "\n",
    "# Die function expects two gray values in the range of 0 bis 255 as x0 und x1. It\n",
    "# creates an image of 1xdiscretization Pixel that interpolates linearly between x0 and \n",
    "# x1 \n",
    "def interpolate_grayscale( x0, x1, discretization = 100 ):\n",
    "    data = numpy.zeros( (1, discretization), dtype=numpy.uint8) \n",
    "   \n",
    "    for i in range(0,discretization):\n",
    "        t = i/(discretization-1)\n",
    "        data[0][i] = (1-t)*x0+t*x1\n",
    "    # please extend here\n",
    "    return data\n",
    "\n",
    "# The function expects two RGB color values in the range of 0 bis 255 as c0 und c1. It\n",
    "# creates an image of 1xdiscretization Pixel that interpolates linearly between c0 and \n",
    "# c1 \n",
    "def interpolate_rgb( c0, c1, discretization = 100 ):\n",
    "    data = numpy.zeros( (1, discretization, 3), dtype=numpy.uint8)\n",
    "        \n",
    "    for i in range(0,discretization):\n",
    "        t = i/(discretization-1)\n",
    "        data[0][i][0] = (1-t)*c0[0]+t*c1[0]\n",
    "        data[0][i][1] = (1-t)*c0[2]+t*c1[1]\n",
    "        data[0][i][2] = (1-t)*c0[2]+t*c1[2]\n",
    "     # please extend here\n",
    "    \n",
    "    return data\n",
    "\n",
    "# The function accepts 4 RGB color values in the range of (0,0,0) to (255,255,255) als c0, c1,\n",
    "# c2 und c3. It creates an image of discretizationxdiscretization Pixel that interpolates\n",
    "# linearly between c0 and c1 \n",
    "def bilinear_interpolate_rgb( c0, c1, c2, c3, discretization = 100 ):\n",
    "    data = numpy.zeros( (discretization, discretization, 3), dtype=numpy.uint8)\n",
    "\n",
    "    for i in range(0,discretization):\n",
    "        for j in range(0,discretization):\n",
    "            t = i/(discretization-1)\n",
    "            t2 = j/(discretization-1)\n",
    "            data[j][i][0] = (1-t2)*((1-t)*c0[0]+t*c1[0])+t2*((1-t)*c2[0]+t*c3[0])\n",
    "            data[j][i][1]=  (1-t2)*((1-t)*c0[1]+t*c1[1])+t2*((1-t)*c2[1]+t*c3[1])\n",
    "            data[j][i][2] = (1-t2)*((1-t)*c0[2]+t*c1[2])+t2*((1-t)*c2[2]+t*c3[2])\n",
    "        \n",
    "    # bitte ergänzen Sie Ihre Lösung hier\n",
    "    \n",
    "    return data"
   ]
  },
  {
   "cell_type": "code",
   "execution_count": 14,
   "id": "d0e71a58-e49a-4a3a-986d-e18ab262d806",
   "metadata": {
    "ExecuteTime": {
     "end_time": "2024-04-05T12:03:13.603217900Z",
     "start_time": "2024-04-05T12:03:13.436180300Z"
    }
   },
   "outputs": [
    {
     "name": "stderr",
     "output_type": "stream",
     "text": [
      "test_create_interpolate_grayscale_slice (__main__.Aufgabenblatt1Tests) ... ok\n",
      "test_create_interpolate_rgb_image (__main__.Aufgabenblatt1Tests) ... ok\n",
      "test_create_interpolate_rgb_slice (__main__.Aufgabenblatt1Tests) ... ok\n",
      "test_illegal_size (__main__.Aufgabenblatt1Tests) ... ERROR\n",
      "test_interpolate_grayscale (__main__.Aufgabenblatt1Tests) ... ok\n",
      "\n",
      "======================================================================\n",
      "ERROR: test_illegal_size (__main__.Aufgabenblatt1Tests)\n",
      "----------------------------------------------------------------------\n",
      "Traceback (most recent call last):\n",
      "  File \"C:\\Users\\phong\\AppData\\Local\\Temp\\ipykernel_16004\\2810474434.py\", line 17, in interpolate_grayscale\n",
      "    raise ValueError(\"discretization must be greater than 1\")\n",
      "ValueError: discretization must be greater than 1\n",
      "\n",
      "During handling of the above exception, another exception occurred:\n",
      "\n",
      "Traceback (most recent call last):\n",
      "  File \"C:\\Users\\phong\\AppData\\Local\\Temp\\ipykernel_16004\\181432983.py\", line 17, in test_illegal_size\n",
      "    image_data = interpolate_grayscale( 0, 100, discretization = 1 )\n",
      "  File \"C:\\Users\\phong\\AppData\\Local\\Temp\\ipykernel_16004\\2810474434.py\", line 19, in interpolate_grayscale\n",
      "    raise TypeError(\"discretization must be an integer\")\n",
      "TypeError: discretization must be an integer\n",
      "\n",
      "----------------------------------------------------------------------\n",
      "Ran 5 tests in 0.115s\n",
      "\n",
      "FAILED (errors=1)\n"
     ]
    },
    {
     "data": {
      "text/plain": "<unittest.main.TestProgram at 0x17f92718160>"
     },
     "execution_count": 14,
     "metadata": {},
     "output_type": "execute_result"
    }
   ],
   "source": [
    "import unittest\n",
    "\n",
    "class Aufgabenblatt1Tests(unittest.TestCase):   \n",
    "    def test_create_interpolate_grayscale_slice( self ):\n",
    "        image_data = interpolate_grayscale( 100, 200, discretization = 256 )\n",
    "        image = Image.fromarray( image_data, mode=\"L\" )\n",
    "        image.save(\"interpolate_grayscale.png\")\n",
    "\n",
    "    def test_interpolate_grayscale( self ):\n",
    "        image_data = interpolate_grayscale( 0, 100, discretization = 3 )\n",
    "        self.assertAlmostEqual( image_data[0][0], 0.0 )\n",
    "        self.assertAlmostEqual( image_data[0][1], 50.0 )\n",
    "        self.assertAlmostEqual( image_data[0][2], 100.0 )\n",
    "\n",
    "    def test_illegal_size( self ):\n",
    "        image_data = interpolate_grayscale( 0, 100, discretization = 2 )\n",
    "        image_data = interpolate_grayscale( 0, 100, discretization = 1 )\n",
    "        image_data = interpolate_grayscale( 0, 100, discretization = -0.21 )\n",
    "    \n",
    "    def test_create_interpolate_rgb_slice( self ):\n",
    "        image_data = interpolate_rgb( (128,128,128), (255,0,0), discretization = 256 )\n",
    "        image = Image.fromarray( image_data, mode=\"RGB\" )\n",
    "        image.save(\"interpolate_rgb.png\")\n",
    "\n",
    "    def test_create_interpolate_rgb_image( self ):\n",
    "        image_data = bilinear_interpolate_rgb( (255,255,255), (128,128,128), (255,0,0), (255, 255, 255), discretization = 256 )\n",
    "        image = Image.fromarray( image_data, mode=\"RGB\" )\n",
    "        image.save(\"bilinear_interpolate_rgb.png\")\n",
    "\n",
    "unittest.main(argv=[''], verbosity=2, exit=False)   "
   ]
  },
  {
   "cell_type": "code",
   "execution_count": null,
   "id": "85962e8c-0e34-43f1-b814-38f1c7ad060d",
   "metadata": {},
   "outputs": [],
   "source": []
  }
 ],
 "metadata": {
  "kernelspec": {
   "display_name": "Python 3 (ipykernel)",
   "language": "python",
   "name": "python3"
  },
  "language_info": {
   "codemirror_mode": {
    "name": "ipython",
    "version": 3
   },
   "file_extension": ".py",
   "mimetype": "text/x-python",
   "name": "python",
   "nbconvert_exporter": "python",
   "pygments_lexer": "ipython3",
   "version": "3.11.7"
  }
 },
 "nbformat": 4,
 "nbformat_minor": 5
}
